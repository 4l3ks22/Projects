{
 "cells": [
  {
   "cell_type": "markdown",
   "id": "299135b3-665a-4a0c-8c61-fea4e67d099e",
   "metadata": {},
   "source": [
    "# Data Science Tools and Ecosystem"
   ]
  },
  {
   "cell_type": "markdown",
   "id": "42bb5bc4-4337-4d7e-9bca-afa104005862",
   "metadata": {},
   "source": [
    "## Introduction"
   ]
  },
  {
   "cell_type": "markdown",
   "id": "2c681378-bd36-47fc-b8db-1ddc52783030",
   "metadata": {},
   "source": [
    "**Objectives of this notebook:**\n",
    "\n",
    "* Show basic languages for Data Science\n",
    "* Show basic libraries for Data Science\n",
    "* Show basic toolkit for Data Science\n",
    "* Calculate basic arithmetics\n",
    "* Convert minutes to hours"
   ]
  },
  {
   "cell_type": "markdown",
   "id": "43b3ee6b-667b-4aa4-bc2b-07662dd24ce7",
   "metadata": {},
   "source": [
    "In this notebook, Data Science Tools and Ecosystem are summarized."
   ]
  },
  {
   "cell_type": "markdown",
   "id": "85db8dc0-4108-49a3-b668-17d6bc4d7870",
   "metadata": {},
   "source": [
    "Data Science languages:\n",
    "1. Python\n",
    "2. R\n",
    "3. SQL\n",
    "4. Julia\n",
    "5. Javascript\n",
    "6. Scala"
   ]
  },
  {
   "cell_type": "markdown",
   "id": "de9cd732-4f5a-42c0-9540-fa8968b98579",
   "metadata": {},
   "source": [
    "Data Science libraries:\n",
    "1. Pandas\n",
    "2. Numpy\n",
    "3. Scikit-learn\n",
    "4. Matplotlib\n",
    "5. Seaborn\n",
    "6. Pytorch\n",
    "7. Plotly"
   ]
  },
  {
   "cell_type": "markdown",
   "id": "1c5fd379-6fdb-46e3-9110-68b0771f7368",
   "metadata": {},
   "source": [
    "| Data Science tools |\n",
    "----------------------\n",
    "Jupyter notebook\n",
    "Tensorflow\n",
    "Apache Spark\n",
    "IBM SPSS"
   ]
  },
  {
   "cell_type": "markdown",
   "id": "d28c0097-6a68-42aa-8dba-fca246c22a1f",
   "metadata": {},
   "source": [
    "### Here is few arithmetic expressions:\n",
    "\n",
    "4 + 5\n",
    "\n",
    "2 - 5\n",
    "\n",
    "2 * 2\n",
    "\n",
    "4 / 2"
   ]
  },
  {
   "cell_type": "markdown",
   "id": "cdadda23-cfe5-43ed-b4f6-a1e53f3a95b7",
   "metadata": {},
   "source": [
    "Below is a simple arithmetic expression multiplying and adding numbers:"
   ]
  },
  {
   "cell_type": "code",
   "execution_count": 4,
   "id": "eb3b04e4-908e-45a7-bdcf-aac109be0576",
   "metadata": {},
   "outputs": [
    {
     "data": {
      "text/plain": [
       "17"
      ]
     },
     "execution_count": 4,
     "metadata": {},
     "output_type": "execute_result"
    }
   ],
   "source": [
    "(3*4) + 5"
   ]
  },
  {
   "cell_type": "code",
   "execution_count": null,
   "id": "cf380b61-72d6-4cc0-904c-b4bb5ba7c414",
   "metadata": {},
   "outputs": [],
   "source": [
    "# Expression to convert 200 minutes to hours"
   ]
  },
  {
   "cell_type": "code",
   "execution_count": 3,
   "id": "7ce47f32-e2ac-40cd-af47-7b6c90b29d06",
   "metadata": {},
   "outputs": [
    {
     "data": {
      "text/plain": [
       "3.3333333333333335"
      ]
     },
     "execution_count": 3,
     "metadata": {},
     "output_type": "execute_result"
    }
   ],
   "source": [
    "minutes = 200\n",
    "hour = 60 #minutes\n",
    "minutes / hour"
   ]
  },
  {
   "cell_type": "markdown",
   "id": "112ecb4a-8a0f-43a9-8354-1cd9dd9c04aa",
   "metadata": {},
   "source": [
    "## Author\n",
    "Alexander"
   ]
  },
  {
   "cell_type": "code",
   "execution_count": null,
   "id": "3ad1c7e0-e279-4d94-976c-5d7eb0fbb6f0",
   "metadata": {},
   "outputs": [],
   "source": []
  }
 ],
 "metadata": {
  "kernelspec": {
   "display_name": "Python 3 (ipykernel)",
   "language": "python",
   "name": "python3"
  },
  "language_info": {
   "codemirror_mode": {
    "name": "ipython",
    "version": 3
   },
   "file_extension": ".py",
   "mimetype": "text/x-python",
   "name": "python",
   "nbconvert_exporter": "python",
   "pygments_lexer": "ipython3",
   "version": "3.12.1"
  }
 },
 "nbformat": 4,
 "nbformat_minor": 5
}
